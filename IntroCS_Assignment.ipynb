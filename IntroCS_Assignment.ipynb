{
  "nbformat": 4,
  "nbformat_minor": 0,
  "metadata": {
    "colab": {
      "provenance": [],
      "authorship_tag": "ABX9TyMt5/JTij1N+2Z0tuyejyAG",
      "include_colab_link": true
    },
    "kernelspec": {
      "name": "python3",
      "display_name": "Python 3"
    },
    "language_info": {
      "name": "python"
    }
  },
  "cells": [
    {
      "cell_type": "markdown",
      "metadata": {
        "id": "view-in-github",
        "colab_type": "text"
      },
      "source": [
        "<a href=\"https://colab.research.google.com/github/Anandhusnairr/Encrypt-to-Decrypt1/blob/main/Assignmment_program.ipynb\" target=\"_parent\"><img src=\"https://colab.research.google.com/assets/colab-badge.svg\" alt=\"Open In Colab\"/></a>"
      ]
    },
    {
      "cell_type": "code",
      "execution_count": null,
      "metadata": {
        "id": "9eI6gu9hs95P"
      },
      "outputs": [],
      "source": []
    },
    {
      "cell_type": "markdown",
      "source": [
        "Implement any two symmetric encryption algorithms using Python.\n",
        "\n",
        "*VIGENERE CIPHER\n",
        "It is a method of encrypting alphabetic text. It uses a simple form of polyalphabetic substitution. A polyalphabetic cipher is any cipher based on substitution using multiple substitution alphabets.\n",
        "\n",
        "WORKING:\n",
        "1)Encryption\n",
        "*Each letter in the plain text is matched with a corresponding letter in the key.\n",
        "*The letters' positions in the alphabet are added together.\n",
        "*If the result goes beyond 'z', it wraps back to 'a'.\n",
        "*The encrypted letter is the one at the new position in the alphabet.\n",
        "*Uppercase letters remain uppercase, and non-alphabetic characters aren't changed\n",
        "\n",
        " 2) Decryption\n",
        "   *Each letter in the encrypted text is matched with a corresponding letter in the key.\n",
        "   *The positions of the letters are subtracted.\n",
        "   *If the result goes below 'a', it wraps back to 'z'\n",
        "   *The decrypted letter is the one at the new position in the alphabet.\n",
        "   *Uppercase letters remain uppercase, and non-alphabetic characters aren't changed."
      ],
      "metadata": {
        "id": "ckt6yC6Cs_Uk"
      }
    },
    {
      "cell_type": "code",
      "source": [
        "def encrypt(plain_txt, key):\n",
        "    alphabet_dictionary = {\n",
        "        'a': 0, 'b': 1, 'c': 2, 'd': 3, 'e': 4, 'f': 5, 'g': 6, 'h': 7, 'i': 8, 'j': 9, 'k': 10,\n",
        "        'l': 11, 'm': 12, 'n': 13, 'o': 14, 'p': 15, 'q': 16, 'r': 17, 's': 18, 't': 19, 'u': 20,\n",
        "        'v': 21, 'w': 22, 'x': 23, 'y': 24, 'z': 25\n",
        "    }\n",
        "\n",
        "    encrypt_txt = \"\"\n",
        "    for char, k in zip(plain_txt, key):\n",
        "        if char.isalpha():\n",
        "            new_index = (alphabet_dictionary[char.lower()] + alphabet_dictionary[k.lower()]) % 26\n",
        "            cipher_txt = [key for key, value in alphabet_dictionary.items() if value == new_index][0]\n",
        "            if char.isupper():\n",
        "                cipher_txt = cipher_txt.upper()\n",
        "            encrypt_txt += cipher_txt\n",
        "        else:\n",
        "            encrypt_txt += char\n",
        "    return encrypt_txt\n",
        "\n",
        "def decrypt(encr_txt, key):\n",
        "    alphabet_dictionary = {\n",
        "        'a': 0, 'b': 1, 'c': 2, 'd': 3, 'e': 4, 'f': 5, 'g': 6, 'h': 7, 'i': 8, 'j': 9, 'k': 10,\n",
        "        'l': 11, 'm': 12, 'n': 13, 'o': 14, 'p': 15, 'q': 16, 'r': 17, 's': 18, 't': 19, 'u': 20,\n",
        "        'v': 21, 'w': 22, 'x': 23, 'y': 24, 'z': 25\n",
        "    }\n",
        "\n",
        "    decrypt_txt = \"\"\n",
        "    for char, k in zip(encr_txt, key):\n",
        "        if char.isalpha():\n",
        "            old_index = (alphabet_dictionary[char.lower()] - alphabet_dictionary[k.lower()]) % 26\n",
        "            plain_txt = [key for key, value in alphabet_dictionary.items() if value == old_index][0]\n",
        "            if char.isupper():\n",
        "                plain_txt = plain_txt.upper()\n",
        "            decrypt_txt += plain_txt\n",
        "        else:\n",
        "            decrypt_txt += char\n",
        "    return decrypt_txt\n",
        "\n",
        "txt = input(\"Enter the plain text: \")\n",
        "key = input(\"Enter the key: \")\n",
        "encrypted_text = encrypt(txt, key)\n",
        "print(\"Encrypted text:\", encrypted_text)\n",
        "\n",
        "decrypted_text = decrypt(encrypted_text, key)\n",
        "print(\"Decrypted text:\", decrypted_text)\n"
      ],
      "metadata": {
        "colab": {
          "base_uri": "https://localhost:8080/",
          "height": 0
        },
        "id": "ATUXt9FMxnbe",
        "outputId": "f0713f68-e3f2-4e89-c65f-9e8f3fe6c757"
      },
      "execution_count": 1,
      "outputs": [
        {
          "output_type": "stream",
          "name": "stdout",
          "text": [
            "Enter the plain text: anandhu\n",
            "Enter the key: keyke\n",
            "Encrypted text: kryxh\n",
            "Decrypted text: anand\n"
          ]
        }
      ]
    },
    {
      "cell_type": "markdown",
      "source": [
        "*Ceaser cipher:\n",
        "It is a simple method of encoding messages. Caesar ciphers use a\n",
        " substitution method where letters in the alphabet are shifted by some fixed\n",
        " number of spaces to yield an encoding alphabet.\n",
        "\n",
        " 1)Encryption:\n",
        "\n",
        "\n",
        "*  Take the plaintext and key value\n",
        "\n",
        "* For each letter in plaintext\n",
        "\n",
        "*   Shift the letter in the alphabet by the specified number of position.\n",
        "*   Wrap around to the beginning or end of alphabet.\n",
        "\n",
        "*   Generate the ciphertext with shifted letters.\n",
        "\n",
        "2)Decyption:\n",
        "\n",
        "\n",
        "*  Take the cipher text and same key value used for encryption\n",
        "\n",
        "*   for each letter in ciphertext\n",
        "*   shift letter in the reverse direction by specified numberof position.\n",
        "\n",
        "\n",
        "*   Wrap around to the beginning or end of alphabet\n",
        "\n",
        "*   Generate the plaintext with shifted letters\n",
        "\n",
        "\n",
        "\n",
        "\n",
        "\n",
        "\n",
        "\n",
        "\n",
        "\n",
        "\n"
      ],
      "metadata": {
        "id": "QYYkQcTBx3oJ"
      }
    },
    {
      "cell_type": "code",
      "source": [
        "def CaesarCipher(text, shift):\n",
        "    encrypted_text = ''\n",
        "    for char in text:\n",
        "        if char.isalpha():\n",
        "            shifted = ord(char) + shift\n",
        "            if char.islower():\n",
        "                encrypted_text += chr((shifted - ord('a')) % 26 + ord('a'))\n",
        "            else:\n",
        "                encrypted_text += chr((shifted - ord('A')) % 26 + ord('A'))\n",
        "        else:\n",
        "            encrypted_text += char\n",
        "    return encrypted_text\n",
        "\n",
        "text = input(\"Enter the text to encrypt: \")\n",
        "shift = int(input(\"Enter the shift value (1-25): \"))\n",
        "\n",
        "encrypted_text = CaesarCipher(text, shift)\n",
        "\n",
        "decrypted_text = CaesarCipher(encrypted_text, -shift)\n",
        "\n",
        "print(\"\\nOrginal text: \",text)\n",
        "print(\"\\nEncrypted text:\", encrypted_text)\n",
        "print(\"\\nDecrypted text:\", decrypted_text)"
      ],
      "metadata": {
        "colab": {
          "base_uri": "https://localhost:8080/",
          "height": 0
        },
        "id": "3CMVnRuf2ef2",
        "outputId": "4425b345-b66e-4f9d-ae02-423b0bdc8e82"
      },
      "execution_count": 2,
      "outputs": [
        {
          "output_type": "stream",
          "name": "stdout",
          "text": [
            "Enter the text to encrypt: anandhu\n",
            "Enter the shift value (1-25): 3\n",
            "\n",
            "Orginal text:  anandhu\n",
            "\n",
            "Encrypted text: dqdqgkx\n",
            "\n",
            "Decrypted text: anandhu\n"
          ]
        }
      ]
    },
    {
      "cell_type": "markdown",
      "source": [
        "Implement any two Asymmetric encryption algorithms using Python.\n",
        "\n",
        "1)ElGamal Encryption Algorithm\n",
        "\n",
        "\n",
        " 1: Getting Keys:\n",
        "First, you and your friend each get two keys: a public key and a private key.\n",
        "\n",
        "*   First, you and your friend each get two keys: a public key and a private key. Your private key is your own secret, while your public key can be shared with anyone.\n",
        "*  Your private key is your own secret, while your public key can be shared with anyone.\n",
        "\n",
        "\n",
        "*  2: Sending a Secret Message:\n",
        "\n",
        "\n",
        "* When you want to send a secret message to your friend:\n",
        "\n",
        "* You put your message in a box and lock it with a special lock that only your friend can open.\n",
        "\n",
        "* You also put a tag on the box that helps your friend find the right key to unlock it.\n",
        "\n",
        "\n",
        "* 3: Unlocking the Message:\n",
        "\n",
        "\n",
        "* Your friend receives the locked box and looks at the tag to find the right key.\n",
        "\n",
        "* Using their private key, they unlock the box and read your messaage\n",
        "\n",
        "\n"
      ],
      "metadata": {
        "id": "SfSFYn0e2sGr"
      }
    },
    {
      "cell_type": "code",
      "source": [
        "import random\n",
        "\n",
        "def gcd(a, b):\n",
        "    if a < b:\n",
        "        return gcd(b, a)\n",
        "    elif a % b == 0:\n",
        "        return b\n",
        "    else:\n",
        "        return gcd(b, a % b)\n",
        "\n",
        "def gen_key(q):\n",
        "    key = random.randint(pow(10, 20), q)\n",
        "    while gcd(q, key) != 1:\n",
        "        key = random.randint(pow(10, 20), q)\n",
        "    return key\n",
        "\n",
        "def power(a, b, c):\n",
        "    x = 1\n",
        "    y = a\n",
        "    while b > 0:\n",
        "        if b % 2 != 0:\n",
        "            x = (x * y) % c\n",
        "        y = (y * y) % c\n",
        "        b = int(b / 2)\n",
        "    return x % c\n",
        "\n",
        "def encrypt(msg, q, h, g):\n",
        "    en_msg = []\n",
        "    k = gen_key(q)  # Private key for sender\n",
        "    s = power(h, k, q)\n",
        "    p = power(g, k, q)\n",
        "    for i in range(len(msg)):\n",
        "        en_msg.append(msg[i])\n",
        "    for i in range(len(en_msg)):\n",
        "        en_msg[i] = s * ord(en_msg[i])\n",
        "    return en_msg, p\n",
        "\n",
        "def decrypt(en_msg, p, key, q):\n",
        "    dr_msg = []\n",
        "    h = power(p, key, q)\n",
        "    for i in range(len(en_msg)):\n",
        "        dr_msg.append(chr(int(en_msg[i] / h)))\n",
        "    return dr_msg\n",
        "\n",
        "def main():\n",
        "    msg = input(\"Enter the plaintext:\")\n",
        "    print(\"Original Message:\", msg)\n",
        "    q = random.randint(pow(10, 20), pow(10, 50))\n",
        "    g = random.randint(2, q)\n",
        "    key = gen_key(q)  # Private key for receiver\n",
        "    h = power(g, key, q)\n",
        "    print(\"g used (g is a generator element from the cyclic group):\", g)\n",
        "    print(\"g^a used (g^a is the result of raising g to the power of Bob’s private key):\", h)\n",
        "    en_msg, p = encrypt(msg, q, h, g)\n",
        "    dr_msg = decrypt(en_msg, p, key, q)\n",
        "    dmsg = ''.join(dr_msg)\n",
        "    print(\"Decrypted Message:\", dmsg)\n",
        "\n",
        "if __name__ == '__main__':\n",
        "    main()"
      ],
      "metadata": {
        "colab": {
          "base_uri": "https://localhost:8080/",
          "height": 0
        },
        "id": "BU9ohI_95R33",
        "outputId": "5e6a8251-1bc6-49c9-abcd-09a9376d1d08"
      },
      "execution_count": 3,
      "outputs": [
        {
          "output_type": "stream",
          "name": "stdout",
          "text": [
            "Enter the plaintext:anandh\n",
            "Original Message: anandh\n",
            "g used (g is a generator element from the cyclic group): 31617613755117953294641374451152430659104778240789\n",
            "g^a used (g^a is the result of raising g to the power of Bob’s private key): 44497514495559891028848487860397338797485280149149\n",
            "Decrypted Message: anandh\n"
          ]
        }
      ]
    },
    {
      "cell_type": "markdown",
      "source": [
        " RSA (Rivest-Shamir-Adleman)\n",
        "\n",
        "\n",
        "* 1.Key Generation:\n",
        "\n",
        "\n",
        "* Imagine you have two big numbers that are secret (private keys), and you multiply them together to get an even bigger number (public key).\n",
        "\n",
        "\n",
        "*  The public key is used to lock messages, and the private keys are used to unlock them.\n",
        "\n",
        "\n",
        "* 2.Encryption:\n",
        "\n",
        "\n",
        "* If you want to send a secret message to someone, you use their public key to lock it.\n",
        "\n",
        "\n",
        "* You take your message, turn it into numbers, and do some math with the public key.\n",
        "\n",
        "\n",
        "* The result is a scrambled version of your message that only the person with the private key can unscramble.\n",
        "\n",
        "\n",
        "* 3.Decryption:\n",
        "\n",
        "\n",
        "*The person with the private key receives the scrambled message and uses their private key to unscramble it.\n",
        "\n",
        "\n",
        "* They do some more math with their private key, and voila! They get back the orginal message."
      ],
      "metadata": {
        "id": "8awREzHs5cKR"
      }
    },
    {
      "cell_type": "code",
      "source": [
        "import random\n",
        "\n",
        "def gcd(a, b):\n",
        "    while b != 0:\n",
        "        a, b = b, a % b\n",
        "    return a\n",
        "\n",
        "def mod_inverse(a, m):\n",
        "    m0, x0, x1 = m, 0, 1\n",
        "    while a > 1:\n",
        "        q = a // m\n",
        "        m, a = a % m, m\n",
        "        x0, x1 = x1 - q * x0, x0\n",
        "    return x1 + m0 if x1 < 0 else x1\n",
        "\n",
        "def is_prime(n, k=5):\n",
        "    if n <= 1:\n",
        "        return False\n",
        "    if n <= 3:\n",
        "        return True\n",
        "    for _ in range(k):\n",
        "        a = random.randint(2, n - 1)\n",
        "        if gcd(n, a) != 1:\n",
        "            return False\n",
        "        if pow(a, n - 1, n) != 1:\n",
        "            return False\n",
        "    return True\n",
        "\n",
        "def generate_keypair(p, q):\n",
        "    if not (is_prime(p) and is_prime(q)):\n",
        "        raise ValueError(\"Both numbers must be prime.\")\n",
        "    n = p * q\n",
        "    phi = (p - 1) * (q - 1)\n",
        "    e = random.randrange(1, phi)\n",
        "    while gcd(e, phi) != 1:\n",
        "        e = random.randrange(1, phi)\n",
        "    d = mod_inverse(e, phi)\n",
        "    return ((e, n), (d, n))\n",
        "\n",
        "def encrypt(public_key, plaintext):\n",
        "    e, n = public_key\n",
        "    ciphertext = [pow(ord(char), e, n) for char in plaintext]\n",
        "    return ciphertext\n",
        "\n",
        "def decrypt(private_key, ciphertext):\n",
        "    d, n = private_key\n",
        "    plaintext = ''.join([chr(pow(char, d, n)) for char in ciphertext])\n",
        "    return plaintext\n",
        "\n",
        "p = int(input(\"Enter the value of p (Prime Number):\"))\n",
        "q = int(input(\"Enter the value of q (Prime Number):\"))\n",
        "public_key, private_key = generate_keypair(p, q)\n",
        "print(\"Public Key:\", public_key)\n",
        "print(\"Private Key:\", private_key)\n",
        "\n",
        "plaintext = input(\"Enter the plaintext:\")\n",
        "encrypted = encrypt(public_key, plaintext)\n",
        "print(\"Encrypted:\", encrypted)\n",
        "\n",
        "decrypted = decrypt(private_key, encrypted)\n",
        "print(\"Decrypted:\", decrypted)\n"
      ],
      "metadata": {
        "colab": {
          "base_uri": "https://localhost:8080/",
          "height": 0
        },
        "id": "BEA-JxB96RoL",
        "outputId": "8f956de5-6bdc-4193-9d46-195e179fc97b"
      },
      "execution_count": 5,
      "outputs": [
        {
          "output_type": "stream",
          "name": "stdout",
          "text": [
            "Enter the value of p (Prime Number):53\n",
            "Enter the value of q (Prime Number):67\n",
            "Public Key: (673, 3551)\n",
            "Private Key: (2305, 3551)\n",
            "Enter the plaintext:anandhu\n",
            "Encrypted: [2911, 2573, 2911, 2573, 1232, 2047, 1334]\n",
            "Decrypted: anandhu\n"
          ]
        }
      ]
    },
    {
      "cell_type": "markdown",
      "source": [
        "Implement a hash function to compute the hash of a given string.\n",
        "\n",
        "\n",
        "\n",
        "\n",
        "*   A hash function is a special algorithm that takes an arbitrary amount of data and condenses it into a fixed-size string of characters, called a hash value or digest. This process is irreversible meaning we cannot retrieve the original data from the hash alone. Hash functions play a vital role in ensuring data integrity and security in various cryptographic applications.\n",
        "\n",
        "\n",
        "\n",
        "*   1: Making the Secret Code:\n",
        "\n",
        "\n",
        "*   You give SHA-256 a message, like \"Hello, World!\".\n",
        "\n",
        "\n",
        "\n",
        "\n",
        "\n",
        "*   SHA-256 then performs some special math on the message to create a unique secret code.\n",
        "\n",
        "\n",
        "*2: Special Math:\n",
        "\n",
        "\n",
        "* SHA-256 breaks down the message into tiny pieces and mixes them up in a special way.\n",
        "\n",
        "\n",
        "* It's like jumbling up letters in a word, but in a really complicated way that nobody can un-jumble.\n",
        "\n",
        "\n",
        "* 3: Creating the Code:\n",
        "\n",
        "\n",
        "* After doing its special math, SHA-256 spits out a secret code.\n",
        "\n",
        "\n",
        "* This code is a fixed size and looks like a long string of letters and numbers.\n",
        "\n",
        "\n",
        "* Even if you change just one tiny thing in the message, like adding a single letter, the secret code will completely change.\n",
        "\n",
        "\n",
        "*  This means each message has its very own unique secret code.\n",
        "\n",
        "\n",
        "\n",
        "\n",
        "\n"
      ],
      "metadata": {
        "id": "jThCJX8C6rUF"
      }
    },
    {
      "cell_type": "code",
      "source": [
        "import hashlib\n",
        "\n",
        "def compute_hash(input_string):\n",
        "    # Convert the input string to bytes\n",
        "    input_bytes = input_string.encode('utf-8')\n",
        "\n",
        "    # Compute the hash using SHA-256 algorithm\n",
        "    hash_result = hashlib.sha256(input_bytes).hexdigest()\n",
        "\n",
        "    return hash_result\n",
        "\n",
        "input_string =input(\"Enter the string:\")\n",
        "hash_result = compute_hash(input_string)\n",
        "print(\"Hash of '{}' is: {}\".format(input_string, hash_result))"
      ],
      "metadata": {
        "colab": {
          "base_uri": "https://localhost:8080/",
          "height": 0
        },
        "id": "nXwJLeSQ7-dd",
        "outputId": "b397d1ad-2462-4582-80f7-c91a393098c3"
      },
      "execution_count": 6,
      "outputs": [
        {
          "output_type": "stream",
          "name": "stdout",
          "text": [
            "Enter the string:anandhu\n",
            "Hash of 'anandhu' is: ef5f955b709db87dccf2e179f4dec3e76a3c98755b3cf6237d1adc9545255584\n"
          ]
        }
      ]
    },
    {
      "cell_type": "markdown",
      "source": [],
      "metadata": {
        "id": "e3DaTLhM6WY3"
      }
    }
  ]
}